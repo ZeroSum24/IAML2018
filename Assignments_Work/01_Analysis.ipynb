{
 "cells": [
  {
   "cell_type": "markdown",
   "metadata": {
    "collapsed": true
   },
   "source": [
    "# Introductory applied machine learning (INFR10069)"
   ]
  },
  {
   "cell_type": "markdown",
   "metadata": {},
   "source": [
    "# Assignment 1: Data analysis and visualisation"
   ]
  },
  {
   "cell_type": "markdown",
   "metadata": {},
   "source": [
    "## Important Instructions\n",
    "\n",
    "**It is important that you follow the instructions below to the letter - we will not be responsible for incorrect marking due to non-standard practices.**\n",
    "\n",
    "1. You *MUST* have your environment set up as in the [README](https://github.com/michael-camilleri/IAML2018) and you *must activate this environment before running this notebook*:\n",
    "```\n",
    "source activate py3iaml\n",
    "cd [DIRECTORY CONTAINING GIT REPOSITORY]\n",
    "jupyter notebook\n",
    "# Navigate to this file\n",
    "```\n",
    "\n",
    "1. Read the instructions carefully, especially where asked to name variables with a specific name. Wherever you are required to produce code you should use code cells, otherwise you should use markdown cells to report results and explain answers. In most cases we indicate the nature of answer we are expecting (code/text), and also provide the code/markdown cell where to put it\n",
    "\n",
    "1. There are some questions which are **specific to those taking the Level-11 version** of the course (INFR11182 and INFR11152). These are clearly marked with the words **(LEVEL 11)** and must be completed by those taking the Level 11 course. Those on the Level 10 version (INFR10069) may (and are advised to) attempt such questions but this will not affect their mark in any way, nor will they get feedback on them.\n",
    "\n",
    "1. The .csv files that you will be using are located at `./datasets` (i.e. use the `datasets` directory **adjacent** to this file).\n",
    "\n",
    "1. Keep your answers brief and concise. Most written questions can be answered with 2-3 lines of explanation.\n",
    "\n",
    "1. Make sure to show **all** your code/working. \n",
    "\n",
    "1. Write readable code. While we do not expect you to follow [PEP8](https://www.python.org/dev/peps/pep-0008/) to the letter, the code should be adequately understandable, with plots/visualisations correctly labelled. **Do** use inline comments when doing something non-standard. When asked to present numerical values, make sure to represent real numbers in the appropriate precision to exemplify your answer. Marks *WILL* be deducted if the marker cannot understand your logic/results.\n",
    "\n",
    "1. **Collaboration:** You may discuss the assignment with your colleagues, provided that the writing that you submit is entirely your own. That is, you should NOT borrow actual text or code from other students. We ask that you provide a list of the people who you've had discussions with (if any).\n",
    "\n",
    "### SUBMISSION Mechanics\n",
    "\n",
    "**IMPORTANT:** You must submit this assignment by **Thursday 18/10/2018 at 16:00**. \n",
    "\n",
    "**Late submissions:** The policy stated in the School of Informatics is that normally you will not be allowed to submit coursework late. See the [ITO webpage](http://web.inf.ed.ac.uk/infweb/student-services/ito/admin/coursework-projects/late-coursework-extension-requests) for exceptions to this, e.g. in case of serious medical illness or serious personal problems.\n",
    "\n",
    "**Resubmission:** If you submit your file again, the previous submission is **overwritten**. We will mark the version that is in the submission folder at the deadline.\n",
    "\n",
    "All submissions happen electronically. To submit:\n",
    "\n",
    "1. Fill out this notebook, and save it, making sure to **KEEP the name of the file UNCHANGED**.\n",
    "\n",
    "1. On a DICE environment, open the terminal, navigate to the location of this notebook, and submit this notebook file using the following command:\n",
    "\n",
    "  ```submit iaml cw1 \"01_Analysis.ipynb\"```\n",
    "\n",
    "  What actually happens in the background is that your file is placed in a folder available to markers. If you submit a file with the same name into the same location, **it will *overwrite* your previous submission**. You can check the status of your submissions with the `show_submissions` command.\n",
    "  \n",
    "1. **Distance Learners:** To copy your work onto DICE (so that you can use the `submit` command) you can use `scp` or `rsync` (you may need to install these yourself). You can copy files to `student.ssh.inf.ed.ac.uk`, then ssh into it in order to submit. The following is an example (replace entries in `[square brackets]` with your specific details):\n",
    "```\n",
    "filename=\"01_Analysis.ipynb\"\n",
    "local_scp_filepath=[DIRECTORY CONTAINING GIT REPOSITORY]${filename}\n",
    "server_address=student.ssh.inf.ed.ac.uk\n",
    "scp -r ${local_scp_filepath} [YOUR USERNAME]@${server_address}:${filename}\n",
    "# rsync -rl ${local_scp_filepath} [YOUR USERNAME]@${server_address}:${filename}\n",
    "ssh [YOUR USERNAME]@${server_address}\n",
    "ssh student.login\n",
    "submit iaml cw1 \"01_Analysis.ipynb\"\n",
    "```\n",
    "\n",
    "### Marking Breakdown\n",
    "\n",
    "The Level 10 and Level 11 points are marked out of different totals, however these are all normalised to 100%.\n",
    "\n",
    "**70-100%** results/answer correct plus extra achievement at understanding or analysis of results. Clear explanations, evidence of creative or deeper thought will contribute to a higher grade.\n",
    "\n",
    "**60-69%** results/answer correct or nearly correct and well explained.\n",
    "\n",
    "**50-59%** results/answer in right direction but significant errors.\n",
    "\n",
    "**40-49%** some evidence that the student has gained some understanding, but not answered the questions\n",
    "properly.\n",
    "\n",
    "**0-39%** serious error or slack work.\n",
    "\n",
    "Note that while this is not a programming assignment, in questions which involve visualisation of results and/or long cold snippets, some marks may be deducted if the code is not adequately readable."
   ]
  },
  {
   "cell_type": "markdown",
   "metadata": {},
   "source": [
    "## Imports\n",
    "\n",
    "Execute the cell below to import all packages you will be using in the rest of the assignemnt."
   ]
  },
  {
   "cell_type": "code",
   "execution_count": 1,
   "metadata": {},
   "outputs": [
    {
     "name": "stderr",
     "output_type": "stream",
     "text": [
      "/home/zerosum24/.conda/envs/py3iaml/lib/python3.7/site-packages/sklearn/utils/__init__.py:4: DeprecationWarning: Using or importing the ABCs from 'collections' instead of from 'collections.abc' is deprecated, and in 3.8 it will stop working\n",
      "  from collections import Sequence\n"
     ]
    }
   ],
   "source": [
    "%matplotlib inline\n",
    "\n",
    "import os\n",
    "import sys\n",
    "import sklearn\n",
    "import numpy as np\n",
    "import pandas as pd\n",
    "import matplotlib.pyplot as plt\n",
    "import seaborn as sns\n",
    "from sklearn.metrics import accuracy_score\n",
    "from sklearn.naive_bayes import GaussianNB\n",
    "from sklearn.metrics import confusion_matrix\n",
    "\n",
    "sys.path.append('..')\n",
    "from utils.plotter import scatter_jitter, plot_confusion_matrix"
   ]
  },
  {
   "cell_type": "markdown",
   "metadata": {},
   "source": [
    "## Description of the dataset\n",
    "\n",
    "This assignment is based on the 20 Newsgroups Dataset. This dataset is a collection of approximately 20,000 newsgroup documents, partitioned (nearly) evenly across 20 different newsgroups, each corresponding to a different topic. Some of the newsgroups are very closely related to each other (e.g. comp.sys.ibm.pc.hardware, comp.sys.mac.hardware), while others are highly unrelated (e.g misc.forsale, soc.religion.christian). \n",
    "\n",
    "There are three versions of the 20 Newsgroups Dataset. In this assignment we will use the `bydate` matlab version in which documents are sorted by date into training (60%) and test (40%) sets, newsgroup-identifying headers are dropped and duplicates are removed. This collection comprises roughly 61,000 different words, which results in a bag-of-words representation with frequency counts. More specifically, each document is represented by a 61,000 dimensional vector that contains the counts for each of the 61,000 different words present in the respective document. \n",
    "\n",
    "To save you time and to make the problem manageable with limited computational resources, we preprocessed the original dataset. We will use documents from only 5 out of the 20 newsgroups, which results in a 5-class problem. The class is conveniently stored in the `class` column. More specifically the 5 classes correspond to the following newsgroups: \n",
    "1. `alt.atheism`\n",
    "2. `comp.sys.ibm.pc.hardware`\n",
    "3. `comp.sys.mac.hardware`\n",
    "4. `rec.sport.baseball`\n",
    "5. `rec.sport.hockey `\n",
    "\n",
    "However, note here that classes 2-3 and 4-5 are rather closely related. Additionally, we computed the [mutual information](https://en.wikipedia.org/wiki/Mutual_information) of each word with the class attribute and selected the some words out of 61,000 that had highest mutual information. For very sophisticated technical reasons (which you should know!) 1 was added to all the word counts in part 1. The resulting representation is much more compact and can be used directly to perform our experiments in Python.\n",
    "\n",
    "**Hint**: The data was preprocessed by a very busy PhD student... and hence should never be taken to be perfect at face value!"
   ]
  },
  {
   "cell_type": "markdown",
   "metadata": {},
   "source": [
    "## 1. Exploration of the dataset"
   ]
  },
  {
   "cell_type": "markdown",
   "metadata": {},
   "source": [
    "Your first task is to get a feel for the data that you will be dealing with in the rest of the assignment."
   ]
  },
  {
   "cell_type": "markdown",
   "metadata": {},
   "source": [
    "### ========== Question 1.1 --- [10 marks] ==========\n",
    "\n",
    "1. [Code] Load the dataset `raw_20news.csv` into a data-frame called `news_raw`. Using pandas methods we learnt in class, extract some basic information about the data. \n",
    "\n",
    "1. [Text] In a short paragraph, summarise the key features of the dataset. *Hint: Look at what we did in the labs.*"
   ]
  },
  {
   "cell_type": "code",
   "execution_count": 2,
   "metadata": {},
   "outputs": [
    {
     "name": "stdout",
     "output_type": "stream",
     "text": [
      "<class 'pandas.core.frame.DataFrame'>\n",
      "Int64Index: 2129 entries, 0 to 2256\n",
      "Columns: 521 entries, w1_aaa to class\n",
      "dtypes: int64(521)\n",
      "memory usage: 8.5 MB\n"
     ]
    },
    {
     "data": {
      "text/html": [
       "<div>\n",
       "<style scoped>\n",
       "    .dataframe tbody tr th:only-of-type {\n",
       "        vertical-align: middle;\n",
       "    }\n",
       "\n",
       "    .dataframe tbody tr th {\n",
       "        vertical-align: top;\n",
       "    }\n",
       "\n",
       "    .dataframe thead th {\n",
       "        text-align: right;\n",
       "    }\n",
       "</style>\n",
       "<table border=\"1\" class=\"dataframe\">\n",
       "  <thead>\n",
       "    <tr style=\"text-align: right;\">\n",
       "      <th></th>\n",
       "      <th>w1_aaa</th>\n",
       "      <th>w2_pins</th>\n",
       "      <th>w3_kmr</th>\n",
       "      <th>w4_notion</th>\n",
       "      <th>w5_queens</th>\n",
       "      <th>w6_dwyer</th>\n",
       "      <th>w7_defenseman</th>\n",
       "      <th>w8_gld</th>\n",
       "      <th>w9_tocchet</th>\n",
       "      <th>w10_home</th>\n",
       "      <th>...</th>\n",
       "      <th>w512_constantly</th>\n",
       "      <th>w513_generate</th>\n",
       "      <th>w514_definite</th>\n",
       "      <th>w515_lacks</th>\n",
       "      <th>w516_combination</th>\n",
       "      <th>w517_sitting</th>\n",
       "      <th>w518_surface</th>\n",
       "      <th>w519_fashion</th>\n",
       "      <th>w520_sit</th>\n",
       "      <th>class</th>\n",
       "    </tr>\n",
       "  </thead>\n",
       "  <tbody>\n",
       "    <tr>\n",
       "      <th>count</th>\n",
       "      <td>2129.000000</td>\n",
       "      <td>2129.000000</td>\n",
       "      <td>2129.000000</td>\n",
       "      <td>2129.000000</td>\n",
       "      <td>2129.000000</td>\n",
       "      <td>2129.00000</td>\n",
       "      <td>2129.000000</td>\n",
       "      <td>2129.000000</td>\n",
       "      <td>2129.000000</td>\n",
       "      <td>2129.000000</td>\n",
       "      <td>...</td>\n",
       "      <td>2129.000000</td>\n",
       "      <td>2129.000000</td>\n",
       "      <td>2129.000000</td>\n",
       "      <td>2129.000000</td>\n",
       "      <td>2129.000000</td>\n",
       "      <td>2129.000000</td>\n",
       "      <td>2129.000000</td>\n",
       "      <td>2129.000000</td>\n",
       "      <td>2129.000000</td>\n",
       "      <td>2129.000000</td>\n",
       "    </tr>\n",
       "    <tr>\n",
       "      <th>mean</th>\n",
       "      <td>5.128229</td>\n",
       "      <td>6.097698</td>\n",
       "      <td>6.120244</td>\n",
       "      <td>5.551902</td>\n",
       "      <td>5.521841</td>\n",
       "      <td>6.12776</td>\n",
       "      <td>5.633161</td>\n",
       "      <td>6.090653</td>\n",
       "      <td>5.970409</td>\n",
       "      <td>5.624706</td>\n",
       "      <td>...</td>\n",
       "      <td>9.666510</td>\n",
       "      <td>9.217473</td>\n",
       "      <td>9.061531</td>\n",
       "      <td>9.398309</td>\n",
       "      <td>9.175200</td>\n",
       "      <td>9.708783</td>\n",
       "      <td>8.807891</td>\n",
       "      <td>9.719587</td>\n",
       "      <td>9.307656</td>\n",
       "      <td>3.092532</td>\n",
       "    </tr>\n",
       "    <tr>\n",
       "      <th>std</th>\n",
       "      <td>38.292577</td>\n",
       "      <td>46.190953</td>\n",
       "      <td>46.656022</td>\n",
       "      <td>40.953913</td>\n",
       "      <td>40.978098</td>\n",
       "      <td>45.96434</td>\n",
       "      <td>41.146918</td>\n",
       "      <td>45.762060</td>\n",
       "      <td>44.266628</td>\n",
       "      <td>40.769105</td>\n",
       "      <td>...</td>\n",
       "      <td>45.844064</td>\n",
       "      <td>43.948910</td>\n",
       "      <td>40.969185</td>\n",
       "      <td>43.833064</td>\n",
       "      <td>42.403283</td>\n",
       "      <td>47.294120</td>\n",
       "      <td>39.341038</td>\n",
       "      <td>46.185082</td>\n",
       "      <td>45.059367</td>\n",
       "      <td>1.395948</td>\n",
       "    </tr>\n",
       "    <tr>\n",
       "      <th>min</th>\n",
       "      <td>1.000000</td>\n",
       "      <td>1.000000</td>\n",
       "      <td>1.000000</td>\n",
       "      <td>1.000000</td>\n",
       "      <td>1.000000</td>\n",
       "      <td>1.00000</td>\n",
       "      <td>1.000000</td>\n",
       "      <td>1.000000</td>\n",
       "      <td>1.000000</td>\n",
       "      <td>1.000000</td>\n",
       "      <td>...</td>\n",
       "      <td>1.000000</td>\n",
       "      <td>1.000000</td>\n",
       "      <td>1.000000</td>\n",
       "      <td>1.000000</td>\n",
       "      <td>1.000000</td>\n",
       "      <td>1.000000</td>\n",
       "      <td>1.000000</td>\n",
       "      <td>1.000000</td>\n",
       "      <td>1.000000</td>\n",
       "      <td>1.000000</td>\n",
       "    </tr>\n",
       "    <tr>\n",
       "      <th>25%</th>\n",
       "      <td>1.000000</td>\n",
       "      <td>1.000000</td>\n",
       "      <td>1.000000</td>\n",
       "      <td>1.000000</td>\n",
       "      <td>1.000000</td>\n",
       "      <td>1.00000</td>\n",
       "      <td>1.000000</td>\n",
       "      <td>1.000000</td>\n",
       "      <td>1.000000</td>\n",
       "      <td>1.000000</td>\n",
       "      <td>...</td>\n",
       "      <td>3.000000</td>\n",
       "      <td>2.000000</td>\n",
       "      <td>3.000000</td>\n",
       "      <td>3.000000</td>\n",
       "      <td>2.000000</td>\n",
       "      <td>3.000000</td>\n",
       "      <td>3.000000</td>\n",
       "      <td>3.000000</td>\n",
       "      <td>2.000000</td>\n",
       "      <td>2.000000</td>\n",
       "    </tr>\n",
       "    <tr>\n",
       "      <th>50%</th>\n",
       "      <td>1.000000</td>\n",
       "      <td>1.000000</td>\n",
       "      <td>1.000000</td>\n",
       "      <td>1.000000</td>\n",
       "      <td>1.000000</td>\n",
       "      <td>1.00000</td>\n",
       "      <td>1.000000</td>\n",
       "      <td>1.000000</td>\n",
       "      <td>1.000000</td>\n",
       "      <td>1.000000</td>\n",
       "      <td>...</td>\n",
       "      <td>5.000000</td>\n",
       "      <td>5.000000</td>\n",
       "      <td>5.000000</td>\n",
       "      <td>5.000000</td>\n",
       "      <td>5.000000</td>\n",
       "      <td>5.000000</td>\n",
       "      <td>5.000000</td>\n",
       "      <td>5.000000</td>\n",
       "      <td>4.000000</td>\n",
       "      <td>3.000000</td>\n",
       "    </tr>\n",
       "    <tr>\n",
       "      <th>75%</th>\n",
       "      <td>1.000000</td>\n",
       "      <td>1.000000</td>\n",
       "      <td>1.000000</td>\n",
       "      <td>1.000000</td>\n",
       "      <td>1.000000</td>\n",
       "      <td>1.00000</td>\n",
       "      <td>1.000000</td>\n",
       "      <td>1.000000</td>\n",
       "      <td>1.000000</td>\n",
       "      <td>1.000000</td>\n",
       "      <td>...</td>\n",
       "      <td>7.000000</td>\n",
       "      <td>7.000000</td>\n",
       "      <td>7.000000</td>\n",
       "      <td>7.000000</td>\n",
       "      <td>7.000000</td>\n",
       "      <td>7.000000</td>\n",
       "      <td>7.000000</td>\n",
       "      <td>7.000000</td>\n",
       "      <td>6.000000</td>\n",
       "      <td>4.000000</td>\n",
       "    </tr>\n",
       "    <tr>\n",
       "      <th>max</th>\n",
       "      <td>572.000000</td>\n",
       "      <td>583.000000</td>\n",
       "      <td>579.000000</td>\n",
       "      <td>580.000000</td>\n",
       "      <td>591.000000</td>\n",
       "      <td>600.00000</td>\n",
       "      <td>546.000000</td>\n",
       "      <td>591.000000</td>\n",
       "      <td>578.000000</td>\n",
       "      <td>578.000000</td>\n",
       "      <td>...</td>\n",
       "      <td>590.000000</td>\n",
       "      <td>587.000000</td>\n",
       "      <td>577.000000</td>\n",
       "      <td>598.000000</td>\n",
       "      <td>568.000000</td>\n",
       "      <td>599.000000</td>\n",
       "      <td>585.000000</td>\n",
       "      <td>600.000000</td>\n",
       "      <td>597.000000</td>\n",
       "      <td>5.000000</td>\n",
       "    </tr>\n",
       "  </tbody>\n",
       "</table>\n",
       "<p>8 rows × 521 columns</p>\n",
       "</div>"
      ],
      "text/plain": [
       "            w1_aaa      w2_pins       w3_kmr    w4_notion    w5_queens  \\\n",
       "count  2129.000000  2129.000000  2129.000000  2129.000000  2129.000000   \n",
       "mean      5.128229     6.097698     6.120244     5.551902     5.521841   \n",
       "std      38.292577    46.190953    46.656022    40.953913    40.978098   \n",
       "min       1.000000     1.000000     1.000000     1.000000     1.000000   \n",
       "25%       1.000000     1.000000     1.000000     1.000000     1.000000   \n",
       "50%       1.000000     1.000000     1.000000     1.000000     1.000000   \n",
       "75%       1.000000     1.000000     1.000000     1.000000     1.000000   \n",
       "max     572.000000   583.000000   579.000000   580.000000   591.000000   \n",
       "\n",
       "         w6_dwyer  w7_defenseman       w8_gld   w9_tocchet     w10_home  \\\n",
       "count  2129.00000    2129.000000  2129.000000  2129.000000  2129.000000   \n",
       "mean      6.12776       5.633161     6.090653     5.970409     5.624706   \n",
       "std      45.96434      41.146918    45.762060    44.266628    40.769105   \n",
       "min       1.00000       1.000000     1.000000     1.000000     1.000000   \n",
       "25%       1.00000       1.000000     1.000000     1.000000     1.000000   \n",
       "50%       1.00000       1.000000     1.000000     1.000000     1.000000   \n",
       "75%       1.00000       1.000000     1.000000     1.000000     1.000000   \n",
       "max     600.00000     546.000000   591.000000   578.000000   578.000000   \n",
       "\n",
       "          ...       w512_constantly  w513_generate  w514_definite  \\\n",
       "count     ...           2129.000000    2129.000000    2129.000000   \n",
       "mean      ...              9.666510       9.217473       9.061531   \n",
       "std       ...             45.844064      43.948910      40.969185   \n",
       "min       ...              1.000000       1.000000       1.000000   \n",
       "25%       ...              3.000000       2.000000       3.000000   \n",
       "50%       ...              5.000000       5.000000       5.000000   \n",
       "75%       ...              7.000000       7.000000       7.000000   \n",
       "max       ...            590.000000     587.000000     577.000000   \n",
       "\n",
       "        w515_lacks  w516_combination  w517_sitting  w518_surface  \\\n",
       "count  2129.000000       2129.000000   2129.000000   2129.000000   \n",
       "mean      9.398309          9.175200      9.708783      8.807891   \n",
       "std      43.833064         42.403283     47.294120     39.341038   \n",
       "min       1.000000          1.000000      1.000000      1.000000   \n",
       "25%       3.000000          2.000000      3.000000      3.000000   \n",
       "50%       5.000000          5.000000      5.000000      5.000000   \n",
       "75%       7.000000          7.000000      7.000000      7.000000   \n",
       "max     598.000000        568.000000    599.000000    585.000000   \n",
       "\n",
       "       w519_fashion     w520_sit        class  \n",
       "count   2129.000000  2129.000000  2129.000000  \n",
       "mean       9.719587     9.307656     3.092532  \n",
       "std       46.185082    45.059367     1.395948  \n",
       "min        1.000000     1.000000     1.000000  \n",
       "25%        3.000000     2.000000     2.000000  \n",
       "50%        5.000000     4.000000     3.000000  \n",
       "75%        7.000000     6.000000     4.000000  \n",
       "max      600.000000   597.000000     5.000000  \n",
       "\n",
       "[8 rows x 521 columns]"
      ]
     },
     "execution_count": 2,
     "metadata": {},
     "output_type": "execute_result"
    }
   ],
   "source": [
    "# (1) # Your Code goes here:\n",
    "\n",
    "news_raw_loc = os.path.join(os.getcwd(), 'datasets', 'raw_20news.csv') # Get news_raw csv location\n",
    "news_raw = pd.read_csv(news_raw_loc) # Read dataset from raw_20news csv file at location\n",
    "\n",
    "news_raw.info() # displaying overview information on the data\n",
    "\n",
    "news_raw.describe() # displaying data statistics"
   ]
  },
  {
   "cell_type": "markdown",
   "metadata": {},
   "source": [
    "(2) ***Your answer goes here:***\n",
    "\n",
    "Point out features of the data such as the similiarity between each of the values.\n",
    "\n",
    "#TODO improve this key summary of the data"
   ]
  },
  {
   "cell_type": "markdown",
   "metadata": {},
   "source": [
    "### ========== Question 1.2 ---  [6 marks] ==========\n",
    "1. [Code] Display the names of some of the attributes in the training datset. \n",
    "1. [Text] Describe the output and comment (1 or 2 sentences) keeping in mind the selection procedure for the features."
   ]
  },
  {
   "cell_type": "code",
   "execution_count": 3,
   "metadata": {},
   "outputs": [
    {
     "name": "stdout",
     "output_type": "stream",
     "text": [
      "\n",
      "Ten attribute names in the dataset\n",
      "-----------------------------------\n",
      "[    'w1_aaa',\n",
      "     'w2_pins',\n",
      "     'w3_kmr',\n",
      "     'w4_notion',\n",
      "     'w5_queens',\n",
      "     'w6_dwyer',\n",
      "     'w7_defenseman',\n",
      "     'w8_gld',\n",
      "     'w9_tocchet',\n",
      "     'w10_home']\n"
     ]
    }
   ],
   "source": [
    "# (1) # Your Code goes here:\n",
    "\n",
    "# Converting the column names into a list iterable\n",
    "dataset_attributes = list(news_raw.columns)\n",
    "\n",
    "# Printing user feedback information\n",
    "print(\"\\nTen attribute names in the dataset\")\n",
    "print(\"-----------------------------------\")\n",
    "\n",
    "# Pretty printing the first 10 attribute names of the dataset for readablility\n",
    "import pprint \n",
    "pprint.PrettyPrinter(indent = 5).pprint(dataset_attributes[0:10])"
   ]
  },
  {
   "cell_type": "markdown",
   "metadata": {},
   "source": [
    "(2) ***Your answer goes here:***\n",
    "\n",
    "The format for the attibutes is consistent with a 'w' followed by a number, and then the word itself. The words themselves are all nouns and include company names (aaa - American Automobile Association) and individual's names (tocchet - Rick Tocchet: Canadian ice hockey coach). \n",
    "\n",
    "Each word is numbered according to their order in the dataset, plus an additional 1, so they do not conform to zero referencing. For instance the 'w5_queens' attribute is indexed by 4 in the listed dataset."
   ]
  },
  {
   "cell_type": "markdown",
   "metadata": {},
   "source": [
    "### ========== Question 1.3 --- [4 marks] ==========\n",
    "Familiarise yourself with the [`stripplot`](https://seaborn.github.io/generated/seaborn.stripplot.html?highlight=stripplot#seaborn.stripplot) function in `seaborn`. \n",
    "\n",
    "1. [Code] Pick one attribute of your choice (except `class`) and display a stripplot for that attribute for dataset **A**. Demonstrate the distribution of the data separately for each class (by making appropriate use of the `x` argument in `stripplot`). Set the `jitter` argument to `True` and the `alpha` argument to an appropriate value (to add transparency). When the jitter parameter is enabled a small amount of noise is added to the data so that there is less overlap and the distribution is easier to visualise. \n",
    "\n",
    "1. [Text] Mention anything peculiar you observe in the Data."
   ]
  },
  {
   "cell_type": "code",
   "execution_count": 4,
   "metadata": {},
   "outputs": [
    {
     "data": {
      "image/png": "[encoded data removed]",
      "text/plain": [
       "<Figure size 576x360 with 1 Axes>"
      ]
     },
     "metadata": {
      "needs_background": "light"
     },
     "output_type": "display_data"
    }
   ],
   "source": [
    "# (1) # Your Code goes here:\n",
    "\n",
    "# NB: Taking the 'w6_dwyer' as my attribute of choice\n",
    "\n",
    "plt.figure(figsize=(8,5))\n",
    "sns.stripplot(x='class', y='w6_dwyer', data=news_raw, jitter=True, alpha=0.4)\n",
    "plt.show()"
   ]
  },
  {
   "cell_type": "markdown",
   "metadata": {},
   "source": [
    "(2) ***My answer:***\n",
    "\n",
    "There is a high concentration of values just above 0 and a number of values scattered from 100 onwards. These appear to be outliers due to the disparte range of values above 100 per class."
   ]
  },
  {
   "cell_type": "markdown",
   "metadata": {},
   "source": [
    "### ========== Question 1.4  --- [8 marks] ==========\n",
    "Let us analyse this further. The stripplot illustrates the distribution of a single attribute. We can also visualise the joint distribution of two variables by using a scatter plot. Again, we want to add a bit of jitter into the data so that is easier to see which parts of the space (2-dimensional in our case) have larger probability densities. For this, you will be using the function `scatter_jitter` from the `utils` library which we provided. This function takes as input two numpy arrays containing the features of interest. \n",
    "\n",
    "1. [Code] First, pick two attributes of your choice from dataset A and use the provided function to plot their joint distribution. Do this twice (i.e. pick 4 attributes and do plots between two pairs: you do not need to plot between each possible pair). You can play around with the amount of noise added by tweaking the `jitter` parameter. Alternatively, you can just use its default value which is set to 0.2. Label the axes appropriately.\n",
    "\n",
    "1. [Text] Do these plots increase or reduce the possibility of the data-set containing outliers? Why or why not? How would you visualise the data to verify this? **N.B. There is no need to code anything for this part, just indicate a reasonable type of plot, and what you expect to see.**"
   ]
  },
  {
   "cell_type": "code",
   "execution_count": 5,
   "metadata": {},
   "outputs": [
    {
     "data": {
      "image/png": "[encoded data removed]",
      "text/plain": [
       "<Figure size 576x360 with 1 Axes>"
      ]
     },
     "metadata": {
      "needs_background": "light"
     },
     "output_type": "display_data"
    },
    {
     "data": {
      "image/png": "[encoded data removed]",
      "text/plain": [
       "<Figure size 576x360 with 1 Axes>"
      ]
     },
     "metadata": {
      "needs_background": "light"
     },
     "output_type": "display_data"
    }
   ],
   "source": [
    "# (1) # Your Code goes here:\n",
    "\n",
    "## TODO edit this so the plots are side by side\n",
    "\n",
    "# NB: (1) First set of chosen attributes: 'w1_aaa','w2_pins'\n",
    "#     (2) Second set of chosen attributes: 'w3_kmr', 'w4_notion'\n",
    "\n",
    "# Plot for first set (1)\n",
    "plt.figure(figsize=(8,5))\n",
    "scatter_jitter(news_raw.w1_aaa, news_raw.w2_pins, jitter=0.6)\n",
    "plt.xlabel('news_raw.w2_pins')\n",
    "plt.ylabel('news_raw.w1_aaa')\n",
    "plt.show()\n",
    "\n",
    "# # Plot for second set (2)\n",
    "plt.figure(figsize=(8,5))\n",
    "scatter_jitter(news_raw.w3_kmr, news_raw.w4_notion, jitter=0.6)\n",
    "plt.xlabel('news_raw.w3_kmr')\n",
    "plt.ylabel('news_raw.w4_notion')\n",
    "plt.show()\n"
   ]
  },
  {
   "cell_type": "markdown",
   "metadata": {},
   "source": [
    "(2) ***Your answer goes here:***\n",
    "\n",
    "\n",
    "These plots increase the likelihood of the variables containing outliers due to them both displaying a high concentration of values around a central point. \n",
    "\n",
    "A histogram would be a useful plot in visualising the outliers. It would demonstrate the density of values around the main point, demonstrating a normal distribution. The outlier values would be demonstrated in the plot with their low density and distance from the central grouping."
   ]
  },
  {
   "cell_type": "markdown",
   "metadata": {},
   "source": [
    "### ========== Question 1.5 --- [15 marks] ==========\n",
    "We want to get rid of the potential outliers in the data. Your job now is to create a new dataset from `news_raw` (name it `news_clean`) and remove the outliers.\n",
    "\n",
    "1. [Text] Decide on a criterion to find the outliers and argue why it is reasonable. \n",
    "1. [Code] Then implement it and visualise the result (in terms of your criterion). **Be careful** not to alter the original dataset as we will need it later. \n",
    "1. [Text] Finally report the number of points in the cleaned dataset, and the number rejected as outliers and comment on the result"
   ]
  },
  {
   "cell_type": "markdown",
   "metadata": {},
   "source": [
    "(1) ***My answer:***\n",
    "\n",
    "The chosen criteron for finding the outliers is comparing the mean of the outliers to the average mean of the data and removing the outliers based on any that are higher than this value. \n",
    "\n",
    "This is reasonable as each of the outliers have a high mean compared to the regular values, and the average mean is significantly skewed as a result of the outliers inclusion. Due to this skew, only the outliers are above the average mean so can be safely removed without accidently removing any of the regular values."
   ]
  },
  {
   "cell_type": "code",
   "execution_count": 8,
   "metadata": {
    "scrolled": true
   },
   "outputs": [
    {
     "name": "stdout",
     "output_type": "stream",
     "text": [
      "\n",
      "Two histograms demonstrating the difference after outliers have been removed\n"
     ]
    },
    {
     "data": {
      "image/png": "[encoded data removed]",
      "text/plain": [
       "<Figure size 1080x288 with 2 Axes>"
      ]
     },
     "metadata": {
      "needs_background": "light"
     },
     "output_type": "display_data"
    },
    {
     "name": "stdout",
     "output_type": "stream",
     "text": [
      "\n",
      "The number of data points in the cleaned dataset is 2099, and the amount of outliers removed was 30.\n"
     ]
    }
   ],
   "source": [
    "# (2) # Your Code goes here:\n",
    "\n",
    "## Preparing the data and calculating the mean values\n",
    "\n",
    "# copying the news_raw dataset into news_clean to prevent alteration\n",
    "news_clean = news_raw.copy(deep=True)\n",
    "\n",
    "# storing the means of the observations with their labels in the index\n",
    "observation_means = {}\n",
    "for index in news_raw.index:\n",
    "    observation = news_raw.loc[index]\n",
    "    observation_means[index] = (np.mean(observation))\n",
    "\n",
    "# calculating the sample mean of all the observations\n",
    "sample_mean_obvs = np.mean(list(observation_means.values()))\n",
    "\n",
    "\n",
    "## Finding and removing outliers\n",
    "\n",
    "# Calculates the differences in mean between the sample mean and the means for each value\n",
    "indx_outliers = []\n",
    "    \n",
    "for obvs, mean in list(observation_means.items()):\n",
    "    if mean > sample_mean_obvs:\n",
    "        indx_outliers.append(obvs)\n",
    "\n",
    "# removing the outliers from the cleaned dataset\n",
    "news_clean.drop(labels=indx_outliers, inplace=True)\n",
    "\n",
    "\n",
    "## Preparing data for the graph\n",
    "\n",
    "# calculating the new sample mean for the cleaned dataset\n",
    "cleaned_observation_means = {}\n",
    "for index in news_clean.index:\n",
    "    cleaned_observation = news_clean.loc[index]\n",
    "    cleaned_observation_means[index] = (np.mean(observation))\n",
    "\n",
    "cleaned_sample_mean_obvs = np.mean(list(cleaned_observation_means.values()))\n",
    "\n",
    "\n",
    "## Visualising the result in terms of criterion\n",
    "# --> Criterion is visualised by the adjusted mean, used to detect outliers, after removing the detected outliers\n",
    "\n",
    "print(\"\\nTwo histograms demonstrating the difference after outliers have been removed\")\n",
    "\n",
    "# Creating two parrell subplots\n",
    "fig, ax = plt.subplots(figsize=(15,4))\n",
    "plt.subplots_adjust(wspace=0.1)\n",
    "\n",
    "# Creating a subplot for the raw values with outliers (taking sample attribute w1_aaa as example)\n",
    "plt.subplot(1, 2, 1)\n",
    "plt.hist(news_raw.w1_aaa, bins=5, data=news_raw)\n",
    "plt.title('Fig 1: Distribution of W1_aaa with outliers - news_raw')\n",
    "plt.xlabel(\"Range of values\")\n",
    "plt.ylabel(\"Amount of values in each bin  \")\n",
    "plt.xlim(-30,550)\n",
    "\n",
    "# plotting the mean of the raw values with a line and adding legend\n",
    "line_plt1 = plt.axvline(sample_mean_obvs, color='k', linestyle='dashed', linewidth=1)\n",
    "rounded_mean = '%s' % float('%.2f' % sample_mean_obvs) \n",
    "line_plt1.set_label(\"Sample observation mean: {0} (to 2 d.p.)\".format(rounded_mean))\n",
    "plt.legend()\n",
    "\n",
    "# Creating a subplot of the cleaned values with outliers removed\n",
    "plt.subplot(1, 2, 2)\n",
    "plt.hist(x=news_clean.w1_aaa, data=news_clean)\n",
    "plt.title('Fig 1: Distribution of W1_aaa without outliers - news_clean')\n",
    "plt.xlabel(\"(Comparitively reduced) range of values\")\n",
    "plt.yticks([]) # Removes xticks\n",
    "\n",
    "# plotting the mean of the cleaned values with a line and adding legend\n",
    "line_plt2 = plt.axvline(cleaned_sample_mean_obvs, color='k', linestyle='dashed', linewidth=1)\n",
    "rounded_mean = '%s' % float('%.2f' % cleaned_sample_mean_obvs) \n",
    "line_plt2.set_label(\"Sample observation mean: {0} (to 2 d.p.)\".format(rounded_mean))\n",
    "plt.legend()\n",
    "\n",
    "# displaying the plots\n",
    "plt.show()\n",
    "\n",
    "\n",
    "## Displaying values in cleaned dataset\n",
    "\n",
    "# Printing the data values\n",
    "print(\"\\nThe number of data points in the cleaned dataset is {0}, and the amount of outliers removed was {1}.\"\n",
    "      .format(news_clean.shape[0], len(indx_outliers)))\n"
   ]
  },
  {
   "cell_type": "markdown",
   "metadata": {},
   "source": [
    "(3) ***My answer:***\n",
    "\n",
    "The number of data points in the cleaned dataset is 2099, and the amount of outliers removed was 30.\n",
    "\n",
    "A reasonable amount of outliers has been removed representing only 1.41% (to 2 d.p.) of the total data (previously 2129 values). This should mean there are plenty of values left to train the classifier with. Additionally the data is now in a more reasonable range (see Fig 2 x-axis range) so will hopefully have a higher accuracy with unseen data."
   ]
  },
  {
   "cell_type": "markdown",
   "metadata": {},
   "source": [
    "# ========== Question 1.6 --- (LEVEL 11) --- [10 marks] ==========\n",
    "\n",
    "1. [Code] Visualise some of the outlier documents and some of the inlier ones. \n",
    "1. [Text] Comment on the observations. Also comment on whether it is appropriate to do such cleaning on just the training data or on the entire data-set (including testing)."
   ]
  },
  {
   "cell_type": "code",
   "execution_count": null,
   "metadata": {},
   "outputs": [],
   "source": [
    "# (1) # Your Code goes here:"
   ]
  },
  {
   "cell_type": "markdown",
   "metadata": {},
   "source": [
    "(2) ***Your answer goes here:***"
   ]
  },
  {
   "cell_type": "markdown",
   "metadata": {},
   "source": [
    "## 2. Naive Bayes classification\n",
    "Now we want to fit a Gaussian Naive Bayes model to the cleaned dataset. You might want first to familiarise yourself with the [`GaussianNB`](http://scikit-learn.org/0.19/modules/generated/sklearn.naive_bayes.GaussianNB.html) class in `Sklearn`."
   ]
  },
  {
   "cell_type": "markdown",
   "metadata": {},
   "source": [
    "### ========== Question 2.1 --- [6 marks] ==========\n",
    "\n",
    "Load the cleaned datasets `train_20news.csv` and `test_20news.csv` into pandas dataframes `news_train` and `news_test` respectively. Using pandas summary methods, confirm that the data is similar in both sets."
   ]
  },
  {
   "cell_type": "code",
   "execution_count": null,
   "metadata": {},
   "outputs": [],
   "source": [
    "# Your Code goes here:\n",
    "\n",
    "# Loading and summarising news_train\n",
    "\n",
    "# Get news_train csv location and reading the dataset from train_20news.csv file at that location\n",
    "news_train_loc = os.path.join(os.getcwd(), 'datasets', 'train_20news.csv') # Get news_raw csv location\n",
    "news_train = pd.read_csv(news_train_loc) # Read dataset from raw_20news csv file at location\n",
    "\n",
    "# Printing userfeed information message before calling summary method on news_train\n",
    "print(\"\\nSummarising the news_train dataframe\")\n",
    "print(\"-------------------------------------\")\n",
    "news_train.info()\n",
    "\n",
    "# Loading and summarising news_test\n",
    "\n",
    "# Get news_test csv location and reading the dataset from test_20news.csv file at that location\n",
    "news_test_loc = os.path.join(os.getcwd(), 'datasets', 'test_20news.csv') \n",
    "news_test = pd.read_csv(news_test_loc) \n",
    "\n",
    "# Printing userfeed information message before calling summary method on news_test\n",
    "print(\"\\n\\nSummarising the news_test dataframe\")\n",
    "print(\"-------------------------------------\")\n",
    "news_test.info()\n",
    "\n",
    "print(\"\\n\\nThe data is similar, both having columns with 521 entries and of the same int64 type.\")\n",
    "print(\"The amount of entries in the respective indexes differs, with a higher amount in the training data:\")\n",
    "print(\"consistent with learned training and testing splits\")\n"
   ]
  },
  {
   "cell_type": "markdown",
   "metadata": {},
   "source": [
    "### ========== Question 2.2 --- [4 marks] ==========\n",
    "\n",
    "[Text] Answer (in brief) the following two questions:\n",
    "1. What is the assumption behind the Naive Bayes Model?\n",
    "1. What would be the main issue we would have to face if we didn't make this assumption?"
   ]
  },
  {
   "cell_type": "markdown",
   "metadata": {},
   "source": [
    "(1/2) ***Your answer goes here:***\n",
    "\n",
    "## TODO - Convert to own words and improve pt.2\n",
    "\n",
    "1) The assumption that a Naive Bayes classifier makes is that the presence of a particular feature in a class is unrelated to the presence of any other feature. For example, a fruit may be considered to be an apple if it is red, round, and about 3 inches in diameter. Even if these features depend on each other or upon the existence of the other features, all of these properties independently contribute to the probability that this fruit is an apple and that is why it is known as ‘Naive’.\n",
    "\n",
    "2) So in the spam example, each character contributing to the spam word is independent even these characters depend on each other to form the word.If we didn't make this assumption the main practical problems would be: we would have to take into account the likelihood of a word being part of a spam email based on whether the characters around it where also spam"
   ]
  },
  {
   "cell_type": "markdown",
   "metadata": {},
   "source": [
    "### ========== Question 2.3 --- [8 marks] ==========\n",
    "\n",
    "1. [Code] By using the `scatter_jitter` function, display a scatter plot of the features `w281_ico` and `w273_tek` for the **cleaned** dataset `news_train`. Set the jitter value to an appropriate value for visualisation. Label axes appropriately.\n",
    "1. [Text] What do you observe about these two features? Does this impact the validity of the Naive Bayes assumption? Why or why not?"
   ]
  },
  {
   "cell_type": "code",
   "execution_count": null,
   "metadata": {},
   "outputs": [],
   "source": [
    "# (1) # Your Code goes here:\n",
    "\n",
    "\n",
    "# NB: (1) First set of chosen attributes: 'w1_aaa','w2_pins'\n",
    "#     (2) Second set of chosen attributes: 'w3_kmr', 'w4_notion'\n",
    "\n",
    "# Plot for first set (1)\n",
    "plt.figure(figsize=(8,5))\n",
    "scatter_jitter(news_train.w281_ico, news_train.w273_tek, jitter=0.8)\n",
    "plt.xlabel('news_clean.w281_ico')\n",
    "plt.ylabel('news_clean.w273_tek')\n",
    "plt.show()"
   ]
  },
  {
   "cell_type": "markdown",
   "metadata": {},
   "source": [
    "(2) ***Your answer goes here:***"
   ]
  },
  {
   "cell_type": "markdown",
   "metadata": {},
   "source": [
    "### ========== Question 2.4 --- [7 marks] ==========\n",
    "1. [Text] What is a reasonable baseline against which to compare the classiffication performance? *Hint: What is the simplest classiffier you can think of?*. \n",
    "1. [Code] Estimate the baseline performance on the *training* data in terms of classification accuracy."
   ]
  },
  {
   "cell_type": "markdown",
   "metadata": {},
   "source": [
    "(1) ***Your answer goes here:***"
   ]
  },
  {
   "cell_type": "code",
   "execution_count": null,
   "metadata": {},
   "outputs": [],
   "source": [
    "# (2) # Your Code goes here:\n",
    "news_train.describe()"
   ]
  },
  {
   "cell_type": "markdown",
   "metadata": {},
   "source": [
    "<a id='question_2_5'></a>\n",
    "### ========== Question 2.5 --- [12 marks] ==========\n",
    "\n",
    "1. [Code] Fit a Gaussian Naive Bayes model to the cleaned dataset. \n",
    "\n",
    "1. [Code] Report the classification accuracy on the **training** dataset and plot a Confusion Matrix for the result (labelling the axes appropriately).\n",
    "\n",
    "1. [Text] Comment on the performance of the model. Is the accuracy a reasonable metric to use for this dataset?\n",
    "\n",
    "*Hint: You may make use of utility functions we provided, as well as an sklearn method for computing confusion matrices*"
   ]
  },
  {
   "cell_type": "code",
   "execution_count": null,
   "metadata": {},
   "outputs": [],
   "source": [
    "# # (1) Fitting a Guassian Naive Bayes model to the cleaned dataset\n",
    "X = news_train.drop('class', axis=1)\n",
    "y = news_train['class']\n",
    "\n",
    "clf = GaussianNB().fit(X=X, y=y)"
   ]
  },
  {
   "cell_type": "code",
   "execution_count": null,
   "metadata": {},
   "outputs": [],
   "source": [
    "# (2) # Your Code goes here:\n",
    "\n",
    "# Initialising necessary variables - TODO\n",
    "predicted_values = clf.predict(X)\n",
    "labels = news_train['class']\n",
    "\n",
    "# Calculating the accuracy of the classifier by comparing the predicted values for the training set with the \n",
    "# known labels for that data\n",
    "accuracy = accuracy_score(predicted_values, labels)\n",
    "accuracy_sf  = '%s' % float('%.3g' % accuracy) # rounding value to 3 significant figures\n",
    "\n",
    "print(\"\\nThe classification accuracy is {0} (to three significant figures).\".format(accuracy_sf))\n",
    "\n",
    " # creating the confusion matrix by comparing the labels and the predicted_values\n",
    "cm = confusion_matrix(labels, predicted_values)\n",
    "\n",
    "# normalising the values of the confusion matrix by their true class\n",
    "cm_norm = cm/cm.sum(axis=1)[:, np.newaxis]\n",
    "\n",
    "# plotting the confusion matrix\n",
    "plt.figure()\n",
    "plot_confusion_matrix(cm_norm)\n",
    "\n",
    "# TODO - look at column labels here"
   ]
  },
  {
   "cell_type": "markdown",
   "metadata": {},
   "source": [
    "(3) ***Your answer goes here:***"
   ]
  },
  {
   "cell_type": "markdown",
   "metadata": {},
   "source": [
    "### ========== Question 2.6 --- [3 marks] ==========\n",
    "\n",
    "[Text] Comment on the confusion matrix from the previous question. Does it look like what you would have expected? Explain."
   ]
  },
  {
   "cell_type": "markdown",
   "metadata": {},
   "source": [
    "***Your answer goes here:***"
   ]
  },
  {
   "cell_type": "markdown",
   "metadata": {},
   "source": [
    "### ========== Question 2.7 --- [12 marks] ==========\n",
    "\n",
    "Now we want to evaluate the generalisation of the classifier on new (i.e. unseen data). \n",
    "\n",
    "1. [Code] Use the classifier you trained in Question [2.5](#question_2_5) (i.e. on the cleaned dataset) and test its performance on the test dataset. Display classification accuracy and plot a confusion matrix of the performance on the test data. \n",
    "\n",
    "1. [Code] Also, reevaluate the performance of the baseline on the test data.\n",
    "\n",
    "1. [Text] In a short paragraph (3-4 sentences) compare and comment on the results with the training data/baseline."
   ]
  },
  {
   "cell_type": "code",
   "execution_count": null,
   "metadata": {},
   "outputs": [],
   "source": [
    "# (1) # Evaluating classifier and displaying results on the testing dataset\n",
    "\n",
    "\n",
    "## Classifier perfomance on test dataset\n",
    "\n",
    "X = news_test.drop('class', axis=1)\n",
    "y = news_test['class']\n",
    "\n",
    "pred_values = clf.predict(X=X)\n",
    "\n",
    "\n",
    "## Accuracy Score \n",
    "\n",
    "# Calculating the accuracy of the classifier by comparing the predicted values for the testing set\n",
    "accuracy = accuracy_score(pred_values, y)\n",
    "accuracy_sf  = '%s' % float('%.3g' % accuracy) # rounding value to 3 significant figures\n",
    "\n",
    "print(\"\\nThe classification accuracy is {0} (to three significant figures).\".format(accuracy_sf))\n",
    "\n",
    "\n",
    "## Confusion Matrix\n",
    "\n",
    " # creating the confusion matrix by comparing the labels and the predicted_values\n",
    "cm = confusion_matrix(y, pred_values)\n",
    "\n",
    "# normalising the values of the confusion matrix by their true class\n",
    "cm_norm = cm/cm.sum(axis=1)[:, np.newaxis]\n",
    "\n",
    "# plotting the confusion matrix\n",
    "plt.figure()\n",
    "plot_confusion_matrix(cm_norm)"
   ]
  },
  {
   "cell_type": "code",
   "execution_count": null,
   "metadata": {},
   "outputs": [],
   "source": [
    "# (2) # Your Code goes here:"
   ]
  },
  {
   "cell_type": "markdown",
   "metadata": {},
   "source": [
    "(3) ***Your answer goes here:***"
   ]
  },
  {
   "cell_type": "markdown",
   "metadata": {},
   "source": [
    "### ========== Question 2.8 --- (LEVEL 11) --- [7 marks] ==========\n",
    "1. [Code] Fit a Gaussian Naive Bayes model to the original raw dataset (including the outliers) and test its performance on the **test** set. \n",
    "\n",
    "1. [Text] Comment on the output and explain why or why not cleaning affects the classifier."
   ]
  },
  {
   "cell_type": "code",
   "execution_count": null,
   "metadata": {},
   "outputs": [],
   "source": [
    "# (1) # Your Code goes here:"
   ]
  },
  {
   "cell_type": "markdown",
   "metadata": {},
   "source": [
    "(2) ***Your answer goes here:***"
   ]
  },
  {
   "cell_type": "markdown",
   "metadata": {},
   "source": [
    "### ========== Question 2.9 --- (LEVEL 11) --- [3 marks] ==========\n",
    "\n",
    "In this exercise we have fitted a Gaussian Naive Bayes classifier to the data (i.e. the class conditional densities are Gaussians). However, this is not ideally suited to our dataset. Can you explain why this is so? what kind of Naive Bayes model would you employ to this kind of data?"
   ]
  },
  {
   "cell_type": "markdown",
   "metadata": {},
   "source": [
    "***Your answer goes here:***"
   ]
  }
 ],
 "metadata": {
  "kernelspec": {
   "display_name": "Python 3",
   "language": "python",
   "name": "python3"
  },
  "language_info": {
   "codemirror_mode": {
    "name": "ipython",
    "version": 3
   },
   "file_extension": ".py",
   "mimetype": "text/x-python",
   "name": "python",
   "nbconvert_exporter": "python",
   "pygments_lexer": "ipython3",
   "version": "3.7.0"
  }
 },
 "nbformat": 4,
 "nbformat_minor": 1
}
