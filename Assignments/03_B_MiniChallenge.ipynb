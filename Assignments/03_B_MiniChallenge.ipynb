{
 "cells": [
  {
   "cell_type": "markdown",
   "metadata": {},
   "source": [
    "# Introductory applied machine learning (INFR10069)\n",
    "# Assignment 3 (Part B): Mini-Challenge [25%]"
   ]
  },
  {
   "cell_type": "markdown",
   "metadata": {},
   "source": [
    "## Important Instructions\n",
    "\n",
    "**It is important that you follow the instructions below to the letter - we will not be responsible for incorrect marking due to non-standard practices.**\n",
    "\n",
    "1. <font color='red'>We have split Assignment 3 into two parts to make it easier for you to work on them separately and for the markers to give you feedback. This is part B of Assignment 3 - Part A is an introduction to Object Recognition. Both Assignments together are still worth 50% of CourseWork 2. **Remember to submit both notebooks (you can submit them separately).**</font>\n",
    "\n",
    "1. You *MUST* have your environment set up as in the [README](https://github.com/michael-camilleri/IAML2018) and you *must activate this environment before running this notebook*:\n",
    "```\n",
    "source activate py3iaml\n",
    "cd [DIRECTORY CONTAINING GIT REPOSITORY]\n",
    "jupyter notebook\n",
    "# Navigate to this file\n",
    "```\n",
    "\n",
    "1. Read the instructions carefully, especially where asked to name variables with a specific name. Wherever you are required to produce code you should use code cells, otherwise you should use markdown cells to report results and explain answers. In most cases we indicate the nature of answer we are expecting (code/text), and also provide the code/markdown cell where to put it\n",
    "\n",
    "1. This part of the Assignment is the same for all students i.e. irrespective of whether you are taking the Level 10 version (INFR10069) or the Level-11 version of the course (INFR11182 and INFR11152).\n",
    "\n",
    "1. The .csv files that you will be using are located at `./datasets` (i.e. use the `datasets` directory **adjacent** to this file).\n",
    "\n",
    "1. In the textual answer, you are given a word-count limit of 600 words: exceeding this will lead to penalisation.\n",
    "\n",
    "1. Make sure to distinguish between **attributes** (columns of the data) and **features** (which typically refers only to the independent variables, i.e. excluding the target variables).\n",
    "\n",
    "1. Make sure to show **all** your code/working. \n",
    "\n",
    "1. Write readable code. While we do not expect you to follow [PEP8](https://www.python.org/dev/peps/pep-0008/) to the letter, the code should be adequately understandable, with plots/visualisations correctly labelled. **Do** use inline comments when doing something non-standard. When asked to present numerical values, make sure to represent real numbers in the appropriate precision to exemplify your answer. Marks *WILL* be deducted if the marker cannot understand your logic/results.\n",
    "\n",
    "1. **Collaboration:** You may discuss the assignment with your colleagues, provided that the writing that you submit is entirely your own. That is, you must NOT borrow actual text or code from others. We ask that you provide a list of the people who you've had discussions with (if any). Please refer to the [Academic Misconduct](http://web.inf.ed.ac.uk/infweb/admin/policies/academic-misconduct) page for what consistutes a breach of the above.\n",
    "\n",
    "\n",
    "### SUBMISSION Mechanics\n",
    "\n",
    "**IMPORTANT:** You must submit this assignment by **Thursday 15/11/2018 at 16:00**. \n",
    "\n",
    "**Late submissions:** The policy stated in the School of Informatics is that normally you will not be allowed to submit coursework late. See the [ITO webpage](http://web.inf.ed.ac.uk/infweb/student-services/ito/admin/coursework-projects/late-coursework-extension-requests) for exceptions to this, e.g. in case of serious medical illness or serious personal problems.\n",
    "\n",
    "**Resubmission:** If you submit your file(s) again, the previous submission is **overwritten**. We will mark the version that is in the submission folder at the deadline.\n",
    "\n",
    "**N.B.**: This Assignment requires submitting **two files (electronically as described below)**:\n",
    " 1. This Jupyter Notebook (Part B), *and*\n",
    " 1. The Jupyter Notebook for Part A\n",
    " \n",
    "All submissions happen electronically. To submit:\n",
    "\n",
    "1. Fill out this notebook (as well as Part A), making sure to:\n",
    "   1. save it with **all code/text and visualisations**: markers are NOT expected to run any cells,\n",
    "   1. keep the name of the file **UNCHANGED**, *and*\n",
    "   1. **keep the same structure**: retain the questions, **DO NOT** delete any cells and **avoid** adding unnecessary cells unless absolutely necessary, as this makes the job harder for the markers. This is especially important for the textual description and probability output (below).\n",
    "\n",
    "1. Submit it using the `submit` functionality. To do this, you must be on a DICE environment. Open a Terminal, and:\n",
    "   1. **On-Campus Students**: navigate to the location of this notebook and execute the following command:\n",
    "   \n",
    "      ```submit iaml cw2 03_A_ObjectRecognition.ipynb 03_B_MiniChallenge.ipynb```\n",
    "      \n",
    "   1. **Distance Learners:** These instructions also apply to those students who work on their own computer. First you need to copy your work onto DICE (so that you can use the `submit` command). For this, you can use `scp` or `rsync` (you may need to install these yourself). You can copy files to `student.ssh.inf.ed.ac.uk`, then ssh into it in order to submit. The following is an example. Replace entries in `[square brackets]` with your specific details: i.e. if your student number is for example s1234567, then `[YOUR USERNAME]` becomes `s1234567`.\n",
    "   \n",
    "    ```\n",
    "    scp -r [FULL PATH TO 03_A_ObjectRecognition.ipynb] [YOUR USERNAME]@student.ssh.inf.ed.ac.uk:03_A_ObjectRecognition.ipynb\n",
    "    scp -r [FULL PATH TO 03_B_MiniChallenge.ipynb] [YOUR USERNAME]@student.ssh.inf.ed.ac.uk:03_B_MiniChallenge.ipynb\n",
    "    ssh [YOUR USERNAME]@student.ssh.inf.ed.ac.uk\n",
    "    ssh student.login\n",
    "    submit iaml cw2 03_A_ObjectRecognition.ipynb 03_B_MiniChallenge.ipynb\n",
    "    ```\n",
    "    \n",
    "   What actually happens in the background is that your file is placed in a folder available to markers. If you submit a file with the same name into the same location, **it will *overwrite* your previous submission**. You should receive an automatic email confirmation after submission.\n",
    "  \n",
    "\n",
    "\n",
    "### Marking Breakdown\n",
    "\n",
    "The Level 10 and Level 11 points are marked out of different totals, however these are all normalised to 100%. Note that Part A (Object Recognition) is worth 75% of the total Mark for Assignment 3, while Part B (this notebook) is worth 25%. Keep this in mind when allocating time for this assignment.\n",
    "\n",
    "**70-100%** results/answer correct plus extra achievement at understanding or analysis of results. Clear explanations, evidence of creative or deeper thought will contribute to a higher grade.\n",
    "\n",
    "**60-69%** results/answer correct or nearly correct and well explained.\n",
    "\n",
    "**50-59%** results/answer in right direction but significant errors.\n",
    "\n",
    "**40-49%** some evidence that the student has gained some understanding, but not answered the questions\n",
    "properly.\n",
    "\n",
    "**0-39%** serious error or slack work.\n",
    "\n",
    "Note that while this is not a programming assignment, in questions which involve visualisation of results and/or long cold snippets, some marks may be deducted if the code is not adequately readable."
   ]
  },
  {
   "cell_type": "markdown",
   "metadata": {},
   "source": [
    "## Imports\n",
    "\n",
    "Use the cell below to include any imports you deem necessary."
   ]
  },
  {
   "cell_type": "code",
   "execution_count": 1,
   "metadata": {},
   "outputs": [
    {
     "name": "stderr",
     "output_type": "stream",
     "text": [
      "/home/zerosum24/.conda/envs/py3iaml/lib/python3.7/site-packages/sklearn/utils/__init__.py:4: DeprecationWarning: Using or importing the ABCs from 'collections' instead of from 'collections.abc' is deprecated, and in 3.8 it will stop working\n",
      "  from collections import Sequence\n"
     ]
    }
   ],
   "source": [
    "# Nice Formatting within Jupyter Notebook\n",
    "%matplotlib inline\n",
    "from IPython.display import display # Allows multiple displays from a single code-cell\n",
    "\n",
    "# System functionality\n",
    "import sys\n",
    "sys.path.append('..')\n",
    "\n",
    "# Import Here any Additional modules you use. To import utilities we provide, use something like:\n",
    "#   from utils.plotter import plot_hinton\n",
    "\n",
    "# Your Code goes here:\n",
    "\n",
    "\n",
    "import os\n",
    "import seaborn as sns\n",
    "import pandas as pd\n",
    "import matplotlib.pyplot as plt\n",
    "import numpy as np\n",
    "\n",
    "from sklearn.dummy import DummyClassifier\n",
    "from sklearn.naive_bayes import MultinomialNB\n",
    "from sklearn.linear_model import LinearRegression, LogisticRegression\n",
    "from sklearn.neighbors import KNeighborsClassifier\n",
    "\n",
    "from sklearn.model_selection import KFold\n",
    "from sklearn.metrics import accuracy_score, log_loss, r2_score\n",
    "\n",
    "KNeighboursClassifier = KNeighborsClassifier"
   ]
  },
  {
   "cell_type": "markdown",
   "metadata": {},
   "source": [
    "# Mini challenge\n",
    "\n",
    "In this second part of the assignment we will have a mini object-recognition challenge. Using the same type of data as in Part A, you are asked to find the best classifier for the person/no person classification task. You can apply any preprocessing steps to the data that you think fit and employ any classifier you like (with the provision that you can explain what the classifier is/preprocessing steps are doing). You can also employ any lessons learnt during the course, either from previous Assignments, the Labs or the lecture material to try and squeeze out as much performance as you possibly can. The only restriction is that all steps must be performed in `Python` by using the `numpy`, `pandas` and `sklearn` packages. You can also make use of `matplotlib` and `seaborn` for visualisation.\n",
    "\n",
    "### DataSet Description\n",
    "\n",
    "The datasets we use here are similar in composition but not the same as the ones used in Part A: *it will be useful to revise the description in that notebook*. Specifically, you have access to three new datasets: a training set (`Images_C_Train.csv`), a validation set (`Images_C_Validate.csv`), and a test set (`Images_C_Test.csv`). You must use the former two for training and evaluating your models (as you see fit). As before, the full data-set has 520 attributes (dimensions). Of these you only have access to the 500 features (`dim1` through `dim500`) to test your model on: i.e. the test set does not have any of the class labels.\n",
    "\n",
    "### Model Evaluation\n",
    "\n",
    "Your results will be evaluated in terms of the logarithmic loss metric, specifically the [logloss](http://scikit-learn.org/0.19/modules/model_evaluation.html#log-loss) function from SKLearn. You should familiarise yourself with this. To estimate this metric you will need to provide probability outputs, as opposed to discrete predictions which we have used so far to compute classification accuracies. Most models in `sklearn` implement a `predict_proba()` method which returns the probabilities for each class. For instance, if your test set consists of `N` datapoints and there are `K` class-labels, the method will return an `N` x `K` matrix (with rows summing to 1).\n",
    "\n",
    "### Submission and Scoring\n",
    "\n",
    "This part of Assignment 3 carries 25% of the total marks. Within this, you will be scored on two criteria:\n",
    " 1. 80% of the mark will depend on the thoroughness of the exploration of various approaches. This will be assessed through your code, as well as a brief description (<600 words) justifying the approaches you considered, your exploration pattern and your suggested final approach (and why you chose it).\n",
    " 1. 20% of the mark will depend on the quality of your predictions: this will be evaluated based on the logarithmic loss metric.\n",
    "Note here that just getting exceptional performance is not enough: in fact, you should focus more on analysing your results that just getting the best score!\n",
    "\n",
    "You have to submit the following:\n",
    " 1. **All Code-Cells** which show your **working** with necessary output/plots already generated.\n",
    " 1. In **TEXT** cell `#ANSWER_TEXT#` you are to write your explanation (<600 words) as described above. Keep this brief and to the point. **Make sure** to keep the token `#ANSWER_TEXT#` as the first line of the cell!\n",
    " 1. In **CODE** cell `#ANSWER_PROB#` you are to submit your predictions. To do this:\n",
    "    1. Once you have chosen your favourite model (and pre-processing steps) apply it to the test-set and estimate the posterior proabilities for the data points in the test set.\n",
    "    1. Store these probabilities in a 2D numpy array named `pred_probabilities`, with predictions along the rows i.e. each row should be a complete probability distribution over whether the image contains a person or not. Note that due to the encoding of the `is_person` class, the negative case (i.e. there is no person) comes first.\n",
    "    1. Execute the `#ANSWER_PROB#` code cell, making sure to not change anything. This cell will do some checks to ensure that you are submitting the right shape of array.\n",
    "\n",
    "You may create as many code cells as you need (within reason) for training your models, evaluating the data etc: however, the text cell `#ANSWER_TEXT#` and code-cell `#ANSWER_PROB#` showing your answers must be the last two cells in the notebook."
   ]
  },
  {
   "cell_type": "code",
   "execution_count": 2,
   "metadata": {},
   "outputs": [],
   "source": [
    "# This is where your working code should start. Fell free to add as many code-cells as necessary.\n",
    "#  Make sure however that all working code cells come BEFORE the #ANSWER_TEXT# and #ANSWER_PROB#\n",
    "#  cells below.\n",
    "\n",
    "# Your Code goes here:"
   ]
  },
  {
   "cell_type": "code",
   "execution_count": 3,
   "metadata": {},
   "outputs": [
    {
     "name": "stdout",
     "output_type": "stream",
     "text": [
      "Training:   The number of entries is 2113 and the amount of attributes is 520.\n",
      "Validation: The number of entries is 1113 and the amount of attributes is 520.\n",
      "Testing:    The number of entries is 1114 and the amount of attributes is 501: with none of the class labels\n",
      "            (barring a null valued is_person column).\n"
     ]
    }
   ],
   "source": [
    "# Loading the training/testing datasets for Images_C_*.csv\n",
    "\n",
    "# Loading the training set\n",
    "data_path = os.path.join(os.getcwd(), 'datasets', 'Images_C_Train.csv')\n",
    "images_c_train = pd.read_csv(data_path)\n",
    "\n",
    "# Loading the testing set\n",
    "data_path = os.path.join(os.getcwd(), 'datasets', 'Images_C_Test.csv')\n",
    "images_c_test = pd.read_csv(data_path)\n",
    "\n",
    "# Loading the validation set\n",
    "data_path = os.path.join(os.getcwd(), 'datasets', 'Images_C_Validate.csv')\n",
    "images_c_valid = pd.read_csv(data_path)\n",
    "\n",
    "print(\"Training:   The number of entries is {0} and the amount of attributes is {1}.\"\n",
    "      .format(images_c_train.shape[0], images_c_train.shape[1]))\n",
    "print(\"Validation: The number of entries is {0} and the amount of attributes is {1}.\"\n",
    "      .format(images_c_valid.shape[0], images_c_valid.shape[1]))\n",
    "print(\"Testing:    The number of entries is {0} and the amount of attributes is {1}: with none of the class labels\"\n",
    "      .format(images_c_test.shape[0], images_c_test.shape[1]) \n",
    "      + \"\\n            (barring a null valued is_person column).\")"
   ]
  },
  {
   "cell_type": "code",
   "execution_count": 4,
   "metadata": {},
   "outputs": [],
   "source": [
    "# Method to filter the unneeded features of a dataframe\n",
    "def feature_filtering(dataframe, regex=\"dim\"):\n",
    "\n",
    "    # last data structure to hold unwanted features\n",
    "    indx_lst = []\n",
    "\n",
    "    # Building a list of any features that are not visual features\n",
    "    for attribute in dataframe.columns:\n",
    "        # ensuring attribute is not a visual feature\n",
    "        if attribute[0:len(regex)] != regex:\n",
    "            indx_lst.append(attribute)\n",
    "            \n",
    "    return dataframe.drop(columns=indx_lst, axis=1)"
   ]
  },
  {
   "cell_type": "code",
   "execution_count": 5,
   "metadata": {},
   "outputs": [],
   "source": [
    "# Splitting into training, testing and validation sets\n",
    "\n",
    "# Splitting the training set\n",
    "X_train = feature_filtering(images_c_train).values\n",
    "y_train = images_c_train['is_person']\n",
    "\n",
    "# Splitting the validation set\n",
    "X_valid = feature_filtering(images_c_valid).values\n",
    "y_valid = images_c_valid['is_person'].values\n",
    "\n",
    "# Splitting the testing set\n",
    "X_test = feature_filtering(images_c_test).values\n",
    "y_out = images_c_test['is_person'].values\n"
   ]
  },
  {
   "cell_type": "code",
   "execution_count": 6,
   "metadata": {},
   "outputs": [],
   "source": [
    "# Creating the KFold validation object to improve the training accuracy\n",
    "\n",
    "kf = KFold(n_splits=5, shuffle=True, random_state=None)"
   ]
  },
  {
   "cell_type": "code",
   "execution_count": 7,
   "metadata": {},
   "outputs": [],
   "source": [
    "# Visualising the data\n",
    "\n",
    "# sns.pairplot(x_vars=X_train.tolist(), y_vars=y_train, data=images_c_train)\n",
    "# plt.show()"
   ]
  },
  {
   "cell_type": "code",
   "execution_count": 22,
   "metadata": {},
   "outputs": [],
   "source": [
    "# Metric Output Functions\n",
    "\n",
    "# Calulating and printing the accuracy of the classifier on the training and validation sets\n",
    "def accuracy_out(X_train, X_valid, y_train, y_valid, pred_train, pred_valid):\n",
    "    \n",
    "    print(\"Classification Accuracy:\")\n",
    "    accuracy_train = accuracy_score(y_true=y_train, y_pred=pred_train)\n",
    "    print(\"Training    - Classification Accuracy - {0:.3f} (to 3 decimal places).\".format(accuracy_train))\n",
    "    accuracy_valid = accuracy_score(y_true=y_valid, y_pred=pred_test)\n",
    "    print(\"Validation  - Classification Accuracy - {0:.3f} (to 3 decimal places).\".format(accuracy_valid))\n",
    "\n",
    "\n",
    "# Calculating and printing the logarithmic loss of the classifier on the training and validation sets\n",
    "def log_loss_out(X_train, X_valid, y_train, y_valid, pred_train, pred_valid):\n",
    "    \n",
    "    print(\"\\nLogarithmic Loss:\")\n",
    "    logloss_train = log_loss(y_true=y_train, y_pred=pred_train)\n",
    "    print(\"Training    - Logarithmic Loss - {0:.3f} (to 3 decimal places).\".format(logloss_train))\n",
    "    logloss_valid = log_loss(y_true=y_valid, y_pred=pred_test)\n",
    "    print(\"Validation  - Logarithmic Loss - {0:.3f} (to 3 decimal places).\".format(logloss_valid))\n",
    "    \n",
    "\n",
    "# Calculating and printing the r^2 score of the classifier on the training and testing sets\n",
    "def r2_score_out(X_train, X_valid, y_train, y_valid, pred_train, pred_valid):\n",
    "    \n",
    "    print(\"R^2 Score:\")\n",
    "    r_2_train = r2_score(y_true=y_train, y_pred=pred_train)\n",
    "    print(\"Training - R^2 Score - {0:.3f} (to 3 decimal places).\".format(r_2_train))\n",
    "    r_2_valid = r2_score(y_true=y_valid, y_pred=pred_valid)\n",
    "    print(\"Testing  - R^2 Score - {0:.3f} (to 3 decimal places).\".format(r_2_valid))\n"
   ]
  },
  {
   "cell_type": "code",
   "execution_count": 9,
   "metadata": {},
   "outputs": [
    {
     "name": "stdout",
     "output_type": "stream",
     "text": [
      "\n",
      "Baseline\n",
      "--------\n",
      "\n",
      "Classification Accuracy:\n",
      "Training    - Classification Accuracy 0.552 (to 3 decimal places).\n",
      "Validation  - Classification Accuracy 0.527 (to 3 decimal places).\n",
      "\n",
      "Logarithmic Loss:\n",
      "Training    - Logarithmic Loss 15.480 (to 3 decimal places).\n",
      "Validation  - Logarithmic Loss 16.354 (to 3 decimal places).\n"
     ]
    }
   ],
   "source": [
    "# Baseline Classifier - Coin Flip Model\n",
    "\n",
    "# Creating the constant value Dummy model and training it to act as a baseline\n",
    "dm_clf = DummyClassifier(strategy='constant', constant=0, random_state=0)\n",
    "dm_clf.fit(X_train, y_train)\n",
    "\n",
    "# Predicting the values of the training and testing data\n",
    "pred_train = dm_clf.predict(X_train)\n",
    "pred_valid = dm_clf.predict(X_valid)\n",
    "\n",
    "## Success Metrics\n",
    "\n",
    "print(\"\\nBaseline\")\n",
    "print(\"--------\\n\")\n",
    "\n",
    "accuracy_out(X_train, X_valid, y_train, y_valid, pred_train, pred_valid)\n",
    "log_loss_out(X_train, X_valid, y_train, y_valid, pred_train, pred_valid)"
   ]
  },
  {
   "cell_type": "code",
   "execution_count": 10,
   "metadata": {},
   "outputs": [
    {
     "name": "stdout",
     "output_type": "stream",
     "text": [
      "\n",
      "Multinomial Naive Bayes\n",
      "-----------------------\n",
      "\n",
      "Classification Accuracy:\n",
      "Training    - Classification Accuracy 0.555 (to 3 decimal places).\n",
      "Validation  - Classification Accuracy 0.527 (to 3 decimal places).\n",
      "\n",
      "Logarithmic Loss:\n",
      "Training    - Logarithmic Loss 15.365 (to 3 decimal places).\n",
      "Validation  - Logarithmic Loss 16.354 (to 3 decimal places).\n"
     ]
    }
   ],
   "source": [
    "# Multinomial Naive Bayes\n",
    "\n",
    "# Creating the model and training it\n",
    "nb_clf = MultinomialNB()\n",
    "nb_clf.fit(X_train, y_train)\n",
    "\n",
    "# Predicting the values of the training and testing data\n",
    "pred_train = nb_clf.predict(X_train)\n",
    "pred_valid = nb_clf.predict(X_valid)\n",
    "\n",
    "## Success Metrics\n",
    "\n",
    "print(\"\\nMultinomial Naive Bayes\")\n",
    "print(\"-----------------------\\n\")\n",
    "\n",
    "accuracy_out(X_train, X_valid, y_train, y_valid, pred_train, pred_valid)\n",
    "log_loss_out(X_train, X_valid, y_train, y_valid, pred_train, pred_valid)"
   ]
  },
  {
   "cell_type": "code",
   "execution_count": 23,
   "metadata": {},
   "outputs": [
    {
     "name": "stdout",
     "output_type": "stream",
     "text": [
      "\n",
      "Linear Regression\n",
      "-----------------\n",
      "\n",
      "R^2 Score:\n",
      "Training - R^2 Score - 0.439 (to 3 decimal places).\n",
      "Testing  - R^2 Score - 0.020 (to 3 decimal places).\n",
      "\n",
      "Logarithmic Loss:\n",
      "Training    - Logarithmic Loss - 0.459 (to 3 decimal places).\n",
      "Validation  - Logarithmic Loss - 1.529 (to 3 decimal places).\n"
     ]
    }
   ],
   "source": [
    "# Linear Regression\n",
    "\n",
    "# Creating the model and training it\n",
    "lir_clf = LinearRegression()\n",
    "lir_clf.fit(X_train, y_train)\n",
    "\n",
    "# Predicting the values of the training and testing data\n",
    "pred_train = lir_clf.predict(X_train)\n",
    "pred_valid = lir_clf.predict(X_valid)\n",
    "\n",
    "## Success Metrics\n",
    "\n",
    "print(\"\\nLinear Regression\")\n",
    "print(\"-----------------\\n\")\n",
    "\n",
    "r2_score_out(X_train, X_valid, y_train, y_valid, pred_train, pred_valid)\n",
    "log_loss_out(X_train, X_valid, y_train, y_valid, pred_train, pred_valid)"
   ]
  },
  {
   "cell_type": "code",
   "execution_count": 12,
   "metadata": {},
   "outputs": [
    {
     "name": "stdout",
     "output_type": "stream",
     "text": [
      "\n",
      "Logistic Regression\n",
      "-------------------\n",
      "\n",
      "Classification Accuracy:\n",
      "Training    - Classification Accuracy 0.555 (to 3 decimal places).\n",
      "Validation  - Classification Accuracy 0.527 (to 3 decimal places).\n",
      "\n",
      "Logarithmic Loss:\n",
      "Training    - Logarithmic Loss 15.365 (to 3 decimal places).\n",
      "Validation  - Logarithmic Loss 16.354 (to 3 decimal places).\n"
     ]
    }
   ],
   "source": [
    "# Logistic Regression and SVMs\n",
    "\n",
    "# Creating the model and training it\n",
    "lor_clf = LogisticRegression()\n",
    "lor_clf.fit(X_train, y_train)\n",
    "\n",
    "# Predicting the values of the training and testing data\n",
    "pred_train = lor_clf.predict(X_train)\n",
    "pred_test = lor_clf.predict(X_valid)\n",
    "\n",
    "## Success Metrics\n",
    "\n",
    "print(\"\\nLogistic Regression\")\n",
    "print(\"-------------------\\n\")\n",
    "\n",
    "accuracy_out(X_train, X_valid, y_train, y_valid, pred_train, pred_test)\n",
    "log_loss_out(X_train, X_valid, y_train, y_valid, pred_train, pred_test)"
   ]
  },
  {
   "cell_type": "code",
   "execution_count": 13,
   "metadata": {},
   "outputs": [
    {
     "name": "stdout",
     "output_type": "stream",
     "text": [
      "\n",
      "Calculating the Best kNN classifier\n",
      "-----------------------------------\n",
      "\n"
     ]
    },
    {
     "data": {
      "image/png": "[encoded data removed]",
      "text/plain": [
       "<Figure size 576x360 with 1 Axes>"
      ]
     },
     "metadata": {
      "needs_background": "light"
     },
     "output_type": "display_data"
    },
    {
     "name": "stdout",
     "output_type": "stream",
     "text": [
      "\n",
      "The most accurate classifier was 10-NN with logarithmic loss 11.172 on the test set (to 3 decimal places).\n",
      "\n",
      "\n",
      "KNN Classifier\n",
      "--------------\n",
      "\n",
      "Classification Accuracy:\n",
      "Training    - Classification Accuracy 0.740 (to 3 decimal places).\n",
      "Validation  - Classification Accuracy 0.677 (to 3 decimal places).\n",
      "\n",
      "Logarithmic Loss:\n",
      "Training    - Logarithmic Loss 8.974 (to 3 decimal places).\n",
      "Validation  - Logarithmic Loss 11.172 (to 3 decimal places).\n"
     ]
    }
   ],
   "source": [
    "# KNN model\n",
    "\n",
    "## Training the classifier multiple times, each time setting the KNN option to a different value:\n",
    "\n",
    "print(\"\\nCalculating the Best kNN classifier\")\n",
    "print(\"-----------------------------------\\n\")\n",
    "\n",
    "# List of the k values\n",
    "k_value_list = list(range(1,50)) + [100, 200, 500, 1000, 1500, 2000]\n",
    "clas_ll = []\n",
    "\n",
    "# Storing the best perfoming knn classifier values \n",
    "best_k_value = k_value_list[0]\n",
    "best_knn_classifier = KNeighboursClassifier(n_neighbors=best_k_value)\n",
    "min_logloss = 100\n",
    "\n",
    "for no_classifier, k_value in enumerate(k_value_list):\n",
    "    \n",
    "    # Training the KNeighboursClassifier\n",
    "    knc = KNeighboursClassifier(n_neighbors=k_value)\n",
    "    knc.fit(X=X_train, y=y_train)\n",
    "\n",
    "    # Predicting the output of the training set\n",
    "    y_pred = knc.predict(X_valid)\n",
    "\n",
    "    # Calculating and printing the logarithmic loss\n",
    "    logloss = log_loss(y_true=y_valid, y_pred=y_pred)\n",
    "    clas_ll.append(logloss) # storing the logarithmic loss values\n",
    "          \n",
    "    # Storing the best k-value\n",
    "    if logloss < min_logloss:\n",
    "        min_logloss = logloss\n",
    "        best_k_value = k_value\n",
    "        best_knn_classifier = knc\n",
    "\n",
    "## Plotting the results (k-value on the x-axis and classification accuracy on the y-axis), marking the axes too:\n",
    "\n",
    "# Creating the bar graph\n",
    "plt.figure(figsize=(8,5))\n",
    "plt.scatter(k_value_list, clas_ll)\n",
    "plt.plot(k_value_list,clas_ll, )\n",
    "\n",
    "# Adding title and labels\n",
    "plt.title(\"K-nearest neighbours classification\")\n",
    "plt.xlabel(\"K Values\")\n",
    "plt.ylabel(\"Logarithmic Loss\")\n",
    "\n",
    "# Plotting the graph\n",
    "plt.show()\n",
    "\n",
    "# Providing output about which was the best classifier\n",
    "print(\"\\nThe most accurate classifier was {0}-NN with logarithmic loss {1:.3f} on the test set (to 3 decimal places).\\n\"\n",
    "      .format(best_k_value, min_logloss))\n",
    "\n",
    "\n",
    "## Using the best chosen knn classifier\n",
    "\n",
    "knn_clf = best_knn_classifier\n",
    "\n",
    "# Predicting the values of the training and testing data\n",
    "pred_train = knn_clf.predict(X_train)\n",
    "pred_valid = knn_clf.predict(X_valid)\n",
    "\n",
    "## Success Metrics\n",
    "\n",
    "print(\"\\nKNN Classifier\")\n",
    "print(\"--------------\\n\")\n",
    "\n",
    "accuracy_out(X_train, X_valid, y_train, y_valid, pred_train, pred_valid)\n",
    "log_loss_out(X_train, X_valid, y_train, y_valid, pred_train, pred_valid)"
   ]
  },
  {
   "cell_type": "code",
   "execution_count": 14,
   "metadata": {},
   "outputs": [],
   "source": [
    "# PCA"
   ]
  },
  {
   "cell_type": "code",
   "execution_count": 15,
   "metadata": {},
   "outputs": [],
   "source": [
    "# Neural Networks"
   ]
  },
  {
   "cell_type": "markdown",
   "metadata": {},
   "source": [
    "#ANSWER_TEXT#\n",
    "\n",
    "***Your answer goes here:***"
   ]
  },
  {
   "cell_type": "code",
   "execution_count": 16,
   "metadata": {},
   "outputs": [
    {
     "ename": "NameError",
     "evalue": "name 'pred_probabilities' is not defined",
     "output_type": "error",
     "traceback": [
      "\u001b[0;31m---------------------------------------------------------------------------\u001b[0m",
      "\u001b[0;31mNameError\u001b[0m                                 Traceback (most recent call last)",
      "\u001b[0;32m<ipython-input-16-64055da03e2f>\u001b[0m in \u001b[0;36m<module>\u001b[0;34m()\u001b[0m\n\u001b[1;32m      2\u001b[0m \u001b[0;31m# Run this cell when you are ready to submit your test-set probabilities. This cell will generate some\u001b[0m\u001b[0;34m\u001b[0m\u001b[0;34m\u001b[0m\u001b[0m\n\u001b[1;32m      3\u001b[0m \u001b[0;31m# warning messages if something is not right: make sure to address them!\u001b[0m\u001b[0;34m\u001b[0m\u001b[0;34m\u001b[0m\u001b[0m\n\u001b[0;32m----> 4\u001b[0;31m \u001b[0;32mif\u001b[0m \u001b[0mpred_probabilities\u001b[0m\u001b[0;34m.\u001b[0m\u001b[0mshape\u001b[0m \u001b[0;34m!=\u001b[0m \u001b[0;34m(\u001b[0m\u001b[0;36m1114\u001b[0m\u001b[0;34m,\u001b[0m \u001b[0;36m2\u001b[0m\u001b[0;34m)\u001b[0m\u001b[0;34m:\u001b[0m\u001b[0;34m\u001b[0m\u001b[0m\n\u001b[0m\u001b[1;32m      5\u001b[0m     \u001b[0mprint\u001b[0m\u001b[0;34m(\u001b[0m\u001b[0;34m'Array is of incorrect shape. Rectify this before submitting.'\u001b[0m\u001b[0;34m)\u001b[0m\u001b[0;34m\u001b[0m\u001b[0m\n\u001b[1;32m      6\u001b[0m \u001b[0;32melif\u001b[0m \u001b[0;34m(\u001b[0m\u001b[0mpred_probabilities\u001b[0m\u001b[0;34m.\u001b[0m\u001b[0msum\u001b[0m\u001b[0;34m(\u001b[0m\u001b[0maxis\u001b[0m\u001b[0;34m=\u001b[0m\u001b[0;36m1\u001b[0m\u001b[0;34m)\u001b[0m \u001b[0;34m!=\u001b[0m \u001b[0;36m1.0\u001b[0m\u001b[0;34m)\u001b[0m\u001b[0;34m.\u001b[0m\u001b[0mall\u001b[0m\u001b[0;34m(\u001b[0m\u001b[0;34m)\u001b[0m\u001b[0;34m:\u001b[0m\u001b[0;34m\u001b[0m\u001b[0m\n",
      "\u001b[0;31mNameError\u001b[0m: name 'pred_probabilities' is not defined"
     ]
    }
   ],
   "source": [
    "#ANSWER_PROB#\n",
    "# Run this cell when you are ready to submit your test-set probabilities. This cell will generate some\n",
    "# warning messages if something is not right: make sure to address them!\n",
    "if pred_probabilities.shape != (1114, 2):\n",
    "    print('Array is of incorrect shape. Rectify this before submitting.')\n",
    "elif (pred_probabilities.sum(axis=1) != 1.0).all():\n",
    "    print('Submitted values are not correct probabilities. Rectify this before submitting.')\n",
    "else:\n",
    "    for _prob in pred_probabilities:\n",
    "        print('{:.8f}, {:.8f}'.format(_prob[0], _prob[1]))"
   ]
  }
 ],
 "metadata": {
  "anaconda-cloud": {},
  "kernelspec": {
   "display_name": "Python 3",
   "language": "python",
   "name": "python3"
  },
  "language_info": {
   "codemirror_mode": {
    "name": "ipython",
    "version": 3
   },
   "file_extension": ".py",
   "mimetype": "text/x-python",
   "name": "python",
   "nbconvert_exporter": "python",
   "pygments_lexer": "ipython3",
   "version": "3.7.0"
  }
 },
 "nbformat": 4,
 "nbformat_minor": 1
}
